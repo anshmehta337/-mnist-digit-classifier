{
  "nbformat": 4,
  "nbformat_minor": 0,
  "metadata": {
    "colab": {
      "provenance": [],
      "gpuType": "T4",
      "authorship_tag": "ABX9TyMBeH6YGb5QTIItDWlLklUS",
      "include_colab_link": true
    },
    "kernelspec": {
      "name": "python3",
      "display_name": "Python 3"
    },
    "language_info": {
      "name": "python"
    },
    "accelerator": "GPU"
  },
  "cells": [
    {
      "cell_type": "markdown",
      "metadata": {
        "id": "view-in-github",
        "colab_type": "text"
      },
      "source": [
        "<a href=\"https://colab.research.google.com/github/anshmehta337/-mnist-digit-classifier/blob/main/work.ipynb\" target=\"_parent\"><img src=\"https://colab.research.google.com/assets/colab-badge.svg\" alt=\"Open In Colab\"/></a>"
      ]
    },
    {
      "cell_type": "code",
      "execution_count": 10,
      "metadata": {
        "id": "tASL1NGx3Vak"
      },
      "outputs": [],
      "source": [
        "import torch\n",
        "import torch.nn as nn\n",
        "import torch.optim as optim\n",
        "import torchvision\n",
        "import torchvision.transforms as transforms"
      ]
    },
    {
      "cell_type": "code",
      "source": [
        "!pip install optuna"
      ],
      "metadata": {
        "colab": {
          "base_uri": "https://localhost:8080/"
        },
        "id": "E0vsIgNo3sqK",
        "outputId": "577990e4-0993-43b7-c2e8-3c7a4d074ac9"
      },
      "execution_count": 11,
      "outputs": [
        {
          "output_type": "stream",
          "name": "stdout",
          "text": [
            "Requirement already satisfied: optuna in /usr/local/lib/python3.11/dist-packages (4.4.0)\n",
            "Requirement already satisfied: alembic>=1.5.0 in /usr/local/lib/python3.11/dist-packages (from optuna) (1.16.4)\n",
            "Requirement already satisfied: colorlog in /usr/local/lib/python3.11/dist-packages (from optuna) (6.9.0)\n",
            "Requirement already satisfied: numpy in /usr/local/lib/python3.11/dist-packages (from optuna) (2.0.2)\n",
            "Requirement already satisfied: packaging>=20.0 in /usr/local/lib/python3.11/dist-packages (from optuna) (25.0)\n",
            "Requirement already satisfied: sqlalchemy>=1.4.2 in /usr/local/lib/python3.11/dist-packages (from optuna) (2.0.42)\n",
            "Requirement already satisfied: tqdm in /usr/local/lib/python3.11/dist-packages (from optuna) (4.67.1)\n",
            "Requirement already satisfied: PyYAML in /usr/local/lib/python3.11/dist-packages (from optuna) (6.0.2)\n",
            "Requirement already satisfied: Mako in /usr/lib/python3/dist-packages (from alembic>=1.5.0->optuna) (1.1.3)\n",
            "Requirement already satisfied: typing-extensions>=4.12 in /usr/local/lib/python3.11/dist-packages (from alembic>=1.5.0->optuna) (4.14.1)\n",
            "Requirement already satisfied: greenlet>=1 in /usr/local/lib/python3.11/dist-packages (from sqlalchemy>=1.4.2->optuna) (3.2.3)\n"
          ]
        }
      ]
    },
    {
      "cell_type": "code",
      "source": [
        "import optuna"
      ],
      "metadata": {
        "id": "PppTapue3wXs"
      },
      "execution_count": 12,
      "outputs": []
    },
    {
      "cell_type": "code",
      "source": [
        "#lets load our dataset too\n",
        "transform = transforms.Compose([\n",
        "    transforms.ToTensor(),\n",
        "    transforms.Normalize((0.1307,), (0.3081,))\n",
        "])\n",
        "\n",
        "trainset=torchvision.datasets.MNIST(root='./data',train=True,download=True,transform=transforms.ToTensor())\n",
        "testset=torchvision.datasets.MNIST(root='./data',train=False,download=True,transform=transforms.ToTensor())"
      ],
      "metadata": {
        "id": "Gib2J-z63x8_"
      },
      "execution_count": 13,
      "outputs": []
    },
    {
      "cell_type": "code",
      "source": [
        "#lets load them\n",
        "trainloader=torch.utils.data.DataLoader(trainset,batch_size=64,shuffle=True)\n",
        "testloader=torch.utils.data.DataLoader(testset,batch_size=64,shuffle=False)"
      ],
      "metadata": {
        "id": "tbCX8sIp4NSo"
      },
      "execution_count": 14,
      "outputs": []
    },
    {
      "cell_type": "markdown",
      "source": [],
      "metadata": {
        "id": "qw2pic_cE-Cu"
      }
    },
    {
      "cell_type": "code",
      "source": [
        "\n",
        "# Define model\n",
        "class Net(nn.Module):\n",
        "    def __init__(self, hidden_size, drop):\n",
        "        super(Net, self).__init__()\n",
        "        self.fc1 = nn.Linear(28 * 28, hidden_size)\n",
        "        self.relu = nn.ReLU()\n",
        "        self.dropout = nn.Dropout(drop)\n",
        "        self.fc2 = nn.Linear(hidden_size, 10)\n",
        "\n",
        "    def forward(self, x):\n",
        "        x = x.view(-1, 28 * 28)\n",
        "        x = self.fc1(x)\n",
        "        x = self.relu(x)\n",
        "        x = self.dropout(x)\n",
        "        x = self.fc2(x)\n",
        "        return x\n",
        "\n",
        "# Define objective\n",
        "def obj(trial):\n",
        "    hidd = trial.suggest_int('hidden_size', 127, 514)\n",
        "    dr = trial.suggest_float('dr', 0.0, 0.2)\n",
        "    lr = trial.suggest_float('lr', 1e-4, 1e-1, log=True)\n",
        "    opt_name = trial.suggest_categorical('optimizer', ['Adam', 'SGD'])\n",
        "\n",
        "    device = torch.device(\"cuda\" if torch.cuda.is_available() else \"cpu\")\n",
        "    mod = Net(hidd, dr).to(device)\n",
        "    loss_fn = nn.CrossEntropyLoss()\n",
        "    optimizer = getattr(optim, opt_name)(mod.parameters(), lr=lr)\n",
        "\n",
        "    # Training\n",
        "    mod.train()\n",
        "    for epoch in range(5):\n",
        "        for inputs, labels in trainloader:\n",
        "            inputs, labels = inputs.to(device), labels.to(device)\n",
        "            optimizer.zero_grad()\n",
        "            outputs = mod(inputs)\n",
        "            loss = loss_fn(outputs, labels)\n",
        "            loss.backward()\n",
        "            optimizer.step()\n",
        "\n",
        "    # Evaluation\n",
        "    mod.eval()\n",
        "    correct, total = 0, 0\n",
        "    with torch.no_grad():\n",
        "        for inputs, labels in testloader:\n",
        "            inputs, labels = inputs.to(device), labels.to(device)\n",
        "            outputs = mod(inputs)\n",
        "            _, pred = outputs.max(1)\n",
        "            correct += (pred == labels).sum().item()\n",
        "            total += labels.size(0)\n",
        "\n",
        "    accuracy = correct / total\n",
        "    return 1.0 - accuracy  # minimize error\n",
        "\n",
        "# Run Optuna\n",
        "study = optuna.create_study(direction='minimize')\n",
        "study.optimize(obj, n_trials=30)\n",
        "\n",
        "# Results\n",
        "print(\"Best trial:\")\n",
        "print(\"  Accuracy: {:.4f}\".format(1 - study.best_value))\n",
        "print(\"  Params: \", study.best_params)\n"
      ],
      "metadata": {
        "colab": {
          "base_uri": "https://localhost:8080/"
        },
        "id": "u-D9M2YGEs1n",
        "outputId": "14862fcb-88b3-4119-fad8-1b4df6e087b2"
      },
      "execution_count": 15,
      "outputs": [
        {
          "output_type": "stream",
          "name": "stderr",
          "text": [
            "[I 2025-08-01 18:39:06,991] A new study created in memory with name: no-name-63a8490e-2cc7-473d-ac62-3929085c5199\n",
            "[I 2025-08-01 18:39:51,724] Trial 0 finished with value: 0.10840000000000005 and parameters: {'hidden_size': 506, 'dr': 0.19056971033624284, 'lr': 0.05159235201410254, 'optimizer': 'Adam'}. Best is trial 0 with value: 0.10840000000000005.\n",
            "[I 2025-08-01 18:40:31,689] Trial 1 finished with value: 0.24970000000000003 and parameters: {'hidden_size': 182, 'dr': 0.044096013519145584, 'lr': 0.0005252381632125263, 'optimizer': 'SGD'}. Best is trial 0 with value: 0.10840000000000005.\n",
            "[I 2025-08-01 18:41:12,500] Trial 2 finished with value: 0.12490000000000001 and parameters: {'hidden_size': 140, 'dr': 0.11428353884118331, 'lr': 0.05780458842697311, 'optimizer': 'Adam'}. Best is trial 0 with value: 0.10840000000000005.\n",
            "[I 2025-08-01 18:41:53,907] Trial 3 finished with value: 0.01970000000000005 and parameters: {'hidden_size': 465, 'dr': 0.11131041333323029, 'lr': 0.0006433286832325972, 'optimizer': 'Adam'}. Best is trial 3 with value: 0.01970000000000005.\n",
            "[I 2025-08-01 18:42:34,589] Trial 4 finished with value: 0.023599999999999954 and parameters: {'hidden_size': 194, 'dr': 0.0903847826829367, 'lr': 0.0016105776186727716, 'optimizer': 'Adam'}. Best is trial 3 with value: 0.01970000000000005.\n",
            "[I 2025-08-01 18:43:15,394] Trial 5 finished with value: 0.2499 and parameters: {'hidden_size': 395, 'dr': 0.07214924268449278, 'lr': 0.0004987337595934807, 'optimizer': 'SGD'}. Best is trial 3 with value: 0.01970000000000005.\n",
            "[I 2025-08-01 18:43:55,070] Trial 6 finished with value: 0.07699999999999996 and parameters: {'hidden_size': 229, 'dr': 0.07294895245647304, 'lr': 0.012534644665407995, 'optimizer': 'SGD'}. Best is trial 3 with value: 0.01970000000000005.\n",
            "[I 2025-08-01 18:44:35,555] Trial 7 finished with value: 0.04359999999999997 and parameters: {'hidden_size': 360, 'dr': 0.13245023524316765, 'lr': 0.016036855020200528, 'optimizer': 'Adam'}. Best is trial 3 with value: 0.01970000000000005.\n",
            "[I 2025-08-01 18:45:15,727] Trial 8 finished with value: 0.1875 and parameters: {'hidden_size': 187, 'dr': 0.12082938880776894, 'lr': 0.0010411361415605797, 'optimizer': 'SGD'}. Best is trial 3 with value: 0.01970000000000005.\n",
            "[I 2025-08-01 18:45:56,081] Trial 9 finished with value: 0.02300000000000002 and parameters: {'hidden_size': 367, 'dr': 0.04719778954311991, 'lr': 0.0005832854860442458, 'optimizer': 'Adam'}. Best is trial 3 with value: 0.01970000000000005.\n",
            "[I 2025-08-01 18:46:38,694] Trial 10 finished with value: 0.0383 and parameters: {'hidden_size': 510, 'dr': 0.165630044605324, 'lr': 0.000142966301889816, 'optimizer': 'Adam'}. Best is trial 3 with value: 0.01970000000000005.\n",
            "[I 2025-08-01 18:47:19,184] Trial 11 finished with value: 0.04159999999999997 and parameters: {'hidden_size': 440, 'dr': 0.0038727447140220334, 'lr': 0.00013638101920057823, 'optimizer': 'Adam'}. Best is trial 3 with value: 0.01970000000000005.\n",
            "[I 2025-08-01 18:47:59,649] Trial 12 finished with value: 0.024399999999999977 and parameters: {'hidden_size': 291, 'dr': 0.037003346829394566, 'lr': 0.004236163791307514, 'optimizer': 'Adam'}. Best is trial 3 with value: 0.01970000000000005.\n",
            "[I 2025-08-01 18:48:40,808] Trial 13 finished with value: 0.023299999999999987 and parameters: {'hidden_size': 444, 'dr': 0.1480801730238761, 'lr': 0.00040785572279600175, 'optimizer': 'Adam'}. Best is trial 3 with value: 0.01970000000000005.\n",
            "[I 2025-08-01 18:49:21,982] Trial 14 finished with value: 0.02180000000000004 and parameters: {'hidden_size': 311, 'dr': 0.034877021221170076, 'lr': 0.0032458682414039197, 'optimizer': 'Adam'}. Best is trial 3 with value: 0.01970000000000005.\n",
            "[I 2025-08-01 18:50:03,157] Trial 15 finished with value: 0.0262 and parameters: {'hidden_size': 284, 'dr': 0.009712231139489005, 'lr': 0.003729958155400182, 'optimizer': 'Adam'}. Best is trial 3 with value: 0.01970000000000005.\n",
            "[I 2025-08-01 18:50:43,765] Trial 16 finished with value: 0.03639999999999999 and parameters: {'hidden_size': 308, 'dr': 0.09193623387439712, 'lr': 0.01151385515135309, 'optimizer': 'Adam'}. Best is trial 3 with value: 0.01970000000000005.\n",
            "[I 2025-08-01 18:51:24,450] Trial 17 finished with value: 0.02210000000000001 and parameters: {'hidden_size': 264, 'dr': 0.0678350567362282, 'lr': 0.001926642636546705, 'optimizer': 'Adam'}. Best is trial 3 with value: 0.01970000000000005.\n",
            "[I 2025-08-01 18:52:04,765] Trial 18 finished with value: 0.09619999999999995 and parameters: {'hidden_size': 347, 'dr': 0.027640777594213052, 'lr': 0.00662666775227155, 'optimizer': 'SGD'}. Best is trial 3 with value: 0.01970000000000005.\n",
            "[I 2025-08-01 18:52:45,967] Trial 19 finished with value: 0.021299999999999986 and parameters: {'hidden_size': 425, 'dr': 0.15500171467781518, 'lr': 0.0011171808637314411, 'optimizer': 'Adam'}. Best is trial 3 with value: 0.01970000000000005.\n",
            "[I 2025-08-01 18:53:27,226] Trial 20 finished with value: 0.034599999999999964 and parameters: {'hidden_size': 453, 'dr': 0.17601304405219426, 'lr': 0.00018717783394253123, 'optimizer': 'Adam'}. Best is trial 3 with value: 0.01970000000000005.\n",
            "[I 2025-08-01 18:54:07,795] Trial 21 finished with value: 0.025800000000000045 and parameters: {'hidden_size': 414, 'dr': 0.1421261841406268, 'lr': 0.0015564681029012798, 'optimizer': 'Adam'}. Best is trial 3 with value: 0.01970000000000005.\n",
            "[I 2025-08-01 18:54:48,748] Trial 22 finished with value: 0.021599999999999953 and parameters: {'hidden_size': 475, 'dr': 0.1147748676586958, 'lr': 0.0009587699540189493, 'optimizer': 'Adam'}. Best is trial 3 with value: 0.01970000000000005.\n",
            "[I 2025-08-01 18:55:30,411] Trial 23 finished with value: 0.025900000000000034 and parameters: {'hidden_size': 472, 'dr': 0.10950241818764604, 'lr': 0.00029542870404456866, 'optimizer': 'Adam'}. Best is trial 3 with value: 0.01970000000000005.\n",
            "[I 2025-08-01 18:56:11,172] Trial 24 finished with value: 0.01880000000000004 and parameters: {'hidden_size': 393, 'dr': 0.1532285171973303, 'lr': 0.0008924258557927509, 'optimizer': 'Adam'}. Best is trial 24 with value: 0.01880000000000004.\n",
            "[I 2025-08-01 18:56:52,530] Trial 25 finished with value: 0.02959999999999996 and parameters: {'hidden_size': 402, 'dr': 0.15863771235568966, 'lr': 0.00027561081566447425, 'optimizer': 'Adam'}. Best is trial 24 with value: 0.01880000000000004.\n",
            "[I 2025-08-01 18:57:32,252] Trial 26 finished with value: 0.18830000000000002 and parameters: {'hidden_size': 422, 'dr': 0.18098475701597724, 'lr': 0.0008681149566526532, 'optimizer': 'SGD'}. Best is trial 24 with value: 0.01880000000000004.\n",
            "[I 2025-08-01 18:58:13,473] Trial 27 finished with value: 0.020000000000000018 and parameters: {'hidden_size': 375, 'dr': 0.19861038610629717, 'lr': 0.0021285823966923573, 'optimizer': 'Adam'}. Best is trial 24 with value: 0.01880000000000004.\n",
            "[I 2025-08-01 18:58:55,005] Trial 28 finished with value: 0.03190000000000004 and parameters: {'hidden_size': 384, 'dr': 0.198968955903704, 'lr': 0.007167501732918457, 'optimizer': 'Adam'}. Best is trial 24 with value: 0.01880000000000004.\n",
            "[I 2025-08-01 18:59:35,584] Trial 29 finished with value: 0.07410000000000005 and parameters: {'hidden_size': 339, 'dr': 0.18103998669278937, 'lr': 0.03239026481913319, 'optimizer': 'Adam'}. Best is trial 24 with value: 0.01880000000000004.\n"
          ]
        },
        {
          "output_type": "stream",
          "name": "stdout",
          "text": [
            "Best trial:\n",
            "  Accuracy: 0.9812\n",
            "  Params:  {'hidden_size': 393, 'dr': 0.1532285171973303, 'lr': 0.0008924258557927509, 'optimizer': 'Adam'}\n"
          ]
        }
      ]
    },
    {
      "cell_type": "code",
      "source": [],
      "metadata": {
        "id": "FKQTLuWuGUom"
      },
      "execution_count": null,
      "outputs": []
    }
  ]
}