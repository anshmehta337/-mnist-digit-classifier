{
  "nbformat": 4,
  "nbformat_minor": 0,
  "metadata": {
    "colab": {
      "provenance": [],
      "gpuType": "T4",
      "authorship_tag": "ABX9TyPY8jrmeFpyEg+doLvNcxiI",
      "include_colab_link": true
    },
    "kernelspec": {
      "name": "python3",
      "display_name": "Python 3"
    },
    "language_info": {
      "name": "python"
    },
    "accelerator": "GPU"
  },
  "cells": [
    {
      "cell_type": "markdown",
      "metadata": {
        "id": "view-in-github",
        "colab_type": "text"
      },
      "source": [
        "<a href=\"https://colab.research.google.com/github/anshmehta337/-mnist-digit-classifier/blob/main/fashionmnistcnn.ipynb\" target=\"_parent\"><img src=\"https://colab.research.google.com/assets/colab-badge.svg\" alt=\"Open In Colab\"/></a>"
      ]
    },
    {
      "cell_type": "code",
      "execution_count": null,
      "metadata": {
        "id": "XEyVWps2u1lP"
      },
      "outputs": [],
      "source": [
        "#here we will try to make our own architecture on MNIST dataset"
      ]
    },
    {
      "cell_type": "code",
      "source": [
        "import torch\n",
        "import torch.nn as nn\n",
        "import torch.optim as optim\n",
        "import torchvision\n",
        "import torchvision.transforms as transform"
      ],
      "metadata": {
        "id": "hsepjeZWvVm9"
      },
      "execution_count": null,
      "outputs": []
    },
    {
      "cell_type": "code",
      "source": [
        "from torch.utils.data import DataLoader"
      ],
      "metadata": {
        "id": "bXZMmAbwv8T1"
      },
      "execution_count": null,
      "outputs": []
    },
    {
      "cell_type": "code",
      "source": [
        "train_transform = transform.Compose([\n",
        "    transform.RandomAffine(\n",
        "        degrees=10,\n",
        "        translate=(0.1, 0.1),\n",
        "        scale=(0.9, 1.1)\n",
        "    ),\n",
        "    transform.ToTensor()\n",
        "])\n",
        "\n",
        "test_transform = transform.Compose([\n",
        "    transform.ToTensor()\n",
        "])"
      ],
      "metadata": {
        "id": "C9Po6ZrrwYVA"
      },
      "execution_count": null,
      "outputs": []
    },
    {
      "cell_type": "code",
      "source": [
        "trainset=torchvision.datasets.FashionMNIST(\n",
        "    root='./data',\n",
        "    train=True,\n",
        "    download=True,\n",
        "    transform=train_transform\n",
        ")\n",
        "testset=torchvision.datasets.FashionMNIST(\n",
        "    root='./data',\n",
        "    train=False,\n",
        "    download=True,\n",
        "    transform=test_transform\n",
        ")"
      ],
      "metadata": {
        "id": "r6Na1UDhxbpC"
      },
      "execution_count": null,
      "outputs": []
    },
    {
      "cell_type": "code",
      "source": [
        "len(trainset)"
      ],
      "metadata": {
        "colab": {
          "base_uri": "https://localhost:8080/"
        },
        "id": "kAZY09ucxvsa",
        "outputId": "20738856-f52f-43a8-e0fd-67ee90ed83d5"
      },
      "execution_count": null,
      "outputs": [
        {
          "output_type": "execute_result",
          "data": {
            "text/plain": [
              "60000"
            ]
          },
          "metadata": {},
          "execution_count": 151
        }
      ]
    },
    {
      "cell_type": "code",
      "source": [
        "train_load=torch.utils.data.DataLoader(trainset,batch_size=64,shuffle=True)\n",
        "test_loader=torch.utils.data.DataLoader(testset,batch_size=64,shuffle=False)"
      ],
      "metadata": {
        "id": "BSlh9iryxyOg"
      },
      "execution_count": null,
      "outputs": []
    },
    {
      "cell_type": "code",
      "source": [
        "import torch.nn as nn\n",
        "\n",
        "class FashionMNIST_CNN(nn.Module):\n",
        "    def __init__(self):\n",
        "        super(FashionMNIST_CNN, self).__init__()\n",
        "\n",
        "        self.block1 = nn.Sequential(\n",
        "            nn.Conv2d(1, 64, kernel_size=3, padding=1),\n",
        "            nn.BatchNorm2d(64),\n",
        "            nn.ReLU(),\n",
        "\n",
        "            nn.Conv2d(64, 64, kernel_size=3, padding=1),\n",
        "            nn.BatchNorm2d(64),\n",
        "            nn.ReLU(),\n",
        "            nn.Dropout2d(0.1),\n",
        "            nn.MaxPool2d(2, 2)  # 64 x 14 x 14\n",
        "        )\n",
        "\n",
        "        self.block2 = nn.Sequential(\n",
        "            nn.Conv2d(64, 128, kernel_size=3, padding=1),\n",
        "            nn.BatchNorm2d(128),\n",
        "            nn.ReLU(),\n",
        "\n",
        "            nn.Conv2d(128, 128, kernel_size=3, padding=1),\n",
        "            nn.BatchNorm2d(128),\n",
        "            nn.ReLU(),\n",
        "            nn.Dropout2d(0.2),\n",
        "            nn.MaxPool2d(2, 2)  # 128 x 7 x 7\n",
        "        )\n",
        "\n",
        "        self.block3 = nn.Sequential(\n",
        "            nn.Conv2d(128, 256, kernel_size=3, padding=1),\n",
        "            nn.BatchNorm2d(256),\n",
        "            nn.ReLU(),\n",
        "\n",
        "            nn.Conv2d(256, 256, kernel_size=3, padding=1),\n",
        "            nn.BatchNorm2d(256),\n",
        "            nn.ReLU(),\n",
        "            nn.Dropout2d(0.1),\n",
        "            nn.MaxPool2d(2, 2)  # 256 x 3 x 3\n",
        "        )\n",
        "\n",
        "        self.block4 = nn.Sequential(\n",
        "            nn.Conv2d(256, 512, kernel_size=3, padding=1),\n",
        "            nn.BatchNorm2d(512),\n",
        "            nn.ReLU(),\n",
        "\n",
        "            nn.Conv2d(512, 512, kernel_size=3, padding=1),\n",
        "            nn.BatchNorm2d(512),\n",
        "            nn.ReLU(),\n",
        "            nn.Dropout2d(0.3),\n",
        "            nn.AdaptiveMaxPool2d((1, 1))  # Output: 512 x 1 x 1\n",
        "        )\n",
        "\n",
        "        self.classifier = nn.Sequential(\n",
        "            nn.Flatten(),               # 512 * 1 * 1 = 512\n",
        "            nn.Linear(512, 256),\n",
        "            nn.ReLU(),\n",
        "            nn.Dropout(0.3),\n",
        "            nn.Linear(256, 128),\n",
        "            nn.ReLU(),\n",
        "            nn.Dropout(0.3),\n",
        "            nn.Linear(128, 10)\n",
        "        )\n",
        "\n",
        "    def forward(self, x):\n",
        "        x = self.block1(x)\n",
        "        x = self.block2(x)\n",
        "        x = self.block3(x)\n",
        "        x = self.block4(x)\n",
        "        x = self.classifier(x)\n",
        "        return x\n"
      ],
      "metadata": {
        "id": "RRAtO1eax9ax"
      },
      "execution_count": null,
      "outputs": []
    },
    {
      "cell_type": "code",
      "source": [
        "device = torch.device('cuda' if torch.cuda.is_available() else 'cpu')\n",
        "model = FashionMNIST_CNN().to(device)\n",
        "\n",
        "criterion = nn.CrossEntropyLoss()\n",
        "optimizer = optim.Adam(model.parameters(), lr=0.001)\n"
      ],
      "metadata": {
        "id": "K09E3hoQ1By5"
      },
      "execution_count": null,
      "outputs": []
    },
    {
      "cell_type": "code",
      "source": [
        "def train(model, train_loader, optimizer, criterion, epoch):\n",
        "    model.train()\n",
        "    total_loss = 0\n",
        "    correct = 0\n",
        "    total = 0\n",
        "\n",
        "    for batch_idx, (inputs, targets) in enumerate(train_loader):\n",
        "        inputs, targets = inputs.to(device), targets.to(device)\n",
        "\n",
        "        optimizer.zero_grad()\n",
        "        outputs = model(inputs)\n",
        "        loss = criterion(outputs, targets)\n",
        "        loss.backward()\n",
        "        optimizer.step()\n",
        "\n",
        "        total_loss += loss.item()\n",
        "        _, predicted = outputs.max(1)\n",
        "        correct += predicted.eq(targets).sum().item()\n",
        "        total += targets.size(0)\n",
        "\n",
        "    print(f'Epoch [{epoch}] - Loss: {total_loss/len(train_loader):.4f} - Accuracy: {100.*correct/total:.2f}%')\n"
      ],
      "metadata": {
        "id": "lWjJdy2R1KSe"
      },
      "execution_count": null,
      "outputs": []
    },
    {
      "cell_type": "code",
      "source": [
        "def evaluate(model, test_loader):\n",
        "    model.eval()\n",
        "    correct = 0\n",
        "    total = 0\n",
        "\n",
        "    with torch.no_grad():\n",
        "        for inputs, targets in test_loader:\n",
        "            inputs, targets = inputs.to(device), targets.to(device)\n",
        "            outputs = model(inputs)\n",
        "            _, predicted = outputs.max(1)\n",
        "            correct += predicted.eq(targets).sum().item()\n",
        "            total += targets.size(0)\n",
        "\n",
        "    print(f'Test Accuracy: {100.*correct/total:.2f}%')\n"
      ],
      "metadata": {
        "id": "vWFxn7eh1M3e"
      },
      "execution_count": null,
      "outputs": []
    },
    {
      "cell_type": "code",
      "source": [
        "epochs = 25  # You can increase\n",
        "1\n",
        "for epoch in range(1, epochs + 1):\n",
        "    train(model, train_load, optimizer, criterion, epoch)\n",
        "    evaluate(model, test_loader)\n"
      ],
      "metadata": {
        "colab": {
          "base_uri": "https://localhost:8080/"
        },
        "id": "ch6KJt611PS_",
        "outputId": "668791a4-7ce2-45cc-db44-67f3ff4b47ea"
      },
      "execution_count": null,
      "outputs": [
        {
          "output_type": "stream",
          "name": "stdout",
          "text": [
            "Epoch [1] - Loss: 0.6899 - Accuracy: 73.80%\n",
            "Test Accuracy: 83.71%\n",
            "Epoch [2] - Loss: 0.4549 - Accuracy: 83.57%\n",
            "Test Accuracy: 86.14%\n",
            "Epoch [3] - Loss: 0.3917 - Accuracy: 85.97%\n",
            "Test Accuracy: 88.62%\n",
            "Epoch [4] - Loss: 0.3566 - Accuracy: 87.40%\n",
            "Test Accuracy: 90.31%\n",
            "Epoch [5] - Loss: 0.3374 - Accuracy: 88.17%\n",
            "Test Accuracy: 88.80%\n",
            "Epoch [6] - Loss: 0.3154 - Accuracy: 88.97%\n",
            "Test Accuracy: 90.59%\n",
            "Epoch [7] - Loss: 0.3041 - Accuracy: 89.28%\n",
            "Test Accuracy: 91.78%\n",
            "Epoch [8] - Loss: 0.2924 - Accuracy: 89.83%\n",
            "Test Accuracy: 91.57%\n",
            "Epoch [9] - Loss: 0.2807 - Accuracy: 90.16%\n",
            "Test Accuracy: 91.84%\n",
            "Epoch [10] - Loss: 0.2699 - Accuracy: 90.68%\n",
            "Test Accuracy: 92.30%\n",
            "Epoch [11] - Loss: 0.2612 - Accuracy: 90.87%\n",
            "Test Accuracy: 91.39%\n",
            "Epoch [12] - Loss: 0.2573 - Accuracy: 91.05%\n",
            "Test Accuracy: 92.67%\n",
            "Epoch [13] - Loss: 0.2500 - Accuracy: 91.29%\n",
            "Test Accuracy: 91.99%\n",
            "Epoch [14] - Loss: 0.2416 - Accuracy: 91.50%\n",
            "Test Accuracy: 92.69%\n",
            "Epoch [15] - Loss: 0.2353 - Accuracy: 91.67%\n",
            "Test Accuracy: 93.12%\n",
            "Epoch [16] - Loss: 0.2321 - Accuracy: 91.90%\n",
            "Test Accuracy: 92.59%\n",
            "Epoch [17] - Loss: 0.2273 - Accuracy: 91.94%\n",
            "Test Accuracy: 92.84%\n",
            "Epoch [18] - Loss: 0.2214 - Accuracy: 92.15%\n",
            "Test Accuracy: 92.18%\n",
            "Epoch [19] - Loss: 0.2178 - Accuracy: 92.27%\n",
            "Test Accuracy: 93.20%\n",
            "Epoch [20] - Loss: 0.2136 - Accuracy: 92.42%\n",
            "Test Accuracy: 93.03%\n",
            "Epoch [21] - Loss: 0.2077 - Accuracy: 92.62%\n",
            "Test Accuracy: 93.43%\n",
            "Epoch [22] - Loss: 0.2079 - Accuracy: 92.69%\n",
            "Test Accuracy: 93.38%\n",
            "Epoch [23] - Loss: 0.2068 - Accuracy: 92.82%\n",
            "Test Accuracy: 93.28%\n",
            "Epoch [24] - Loss: 0.2011 - Accuracy: 92.95%\n",
            "Test Accuracy: 93.44%\n",
            "Epoch [25] - Loss: 0.1932 - Accuracy: 93.11%\n",
            "Test Accuracy: 93.62%\n"
          ]
        }
      ]
    },
    {
      "cell_type": "code",
      "source": [],
      "metadata": {
        "id": "2rNz2fSI18QZ"
      },
      "execution_count": null,
      "outputs": []
    }
  ]
}